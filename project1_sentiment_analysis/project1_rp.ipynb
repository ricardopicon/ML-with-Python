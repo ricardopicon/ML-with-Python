{
 "cells": [
  {
   "cell_type": "code",
   "execution_count": 3,
   "source": [
    "from project1 import hinge_loss_single, perceptron_single_step_update\n",
    "import numpy as np"
   ],
   "outputs": [],
   "metadata": {}
  },
  {
   "cell_type": "code",
   "execution_count": 7,
   "source": [
    "feature_vector= np.array([0.48644884,-0.24866828,-0.44284728,0.41690873,0.02021943, -0.00553192, -0.43974916,0.1448213,0.27199989,-0.13614167])\n",
    "label= 1\n",
    "theta= np.array([-0.49734999,0.44134169,0.43143849,-0.41967146,-0.38836483 ,-0.40025636 ,0.36601755, -0.42735319,  0.40534672 , 0.01488874])\n",
    "theta_0= 1.0856196293527205\n",
    "(['-0.0109012', '0.1926734', '-0.0114088', '-0.0027627', '-0.3681454', '-0.4057883', '-0.0737316', '-0.2825319', '0.6773466', '-0.1212529'], '2.0856196');"
   ],
   "outputs": [],
   "metadata": {}
  },
  {
   "cell_type": "code",
   "execution_count": 8,
   "source": [
    "perceptron_single_step_update(feature_vector,label,theta,theta_0)"
   ],
   "outputs": [
    {
     "output_type": "execute_result",
     "data": {
      "text/plain": [
       "(array([-0.01090115,  0.19267341, -0.01140879, -0.00276273, -0.3681454 ,\n",
       "        -0.40578828, -0.07373161, -0.28253189,  0.67734661, -0.12125293]),\n",
       " 2.0856196293527205)"
      ]
     },
     "metadata": {},
     "execution_count": 8
    }
   ],
   "metadata": {}
  },
  {
   "cell_type": "code",
   "execution_count": null,
   "source": [],
   "outputs": [],
   "metadata": {}
  }
 ],
 "metadata": {
  "orig_nbformat": 4,
  "language_info": {
   "name": "python",
   "version": "3.6.13",
   "mimetype": "text/x-python",
   "codemirror_mode": {
    "name": "ipython",
    "version": 3
   },
   "pygments_lexer": "ipython3",
   "nbconvert_exporter": "python",
   "file_extension": ".py"
  },
  "kernelspec": {
   "name": "python3",
   "display_name": "Python 3.6.13 64-bit ('6.86x': conda)"
  },
  "interpreter": {
   "hash": "710a1a74ad6663d1805d5639d5cd72050a01a7716c57f597e07a03adb84b2f3a"
  }
 },
 "nbformat": 4,
 "nbformat_minor": 2
}