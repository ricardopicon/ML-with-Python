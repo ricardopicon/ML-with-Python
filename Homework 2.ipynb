{
 "cells": [
  {
   "cell_type": "code",
   "execution_count": 1,
   "metadata": {},
   "outputs": [],
   "source": [
    "import numpy as np"
   ]
  },
  {
   "cell_type": "code",
   "execution_count": 81,
   "metadata": {},
   "outputs": [],
   "source": [
    "def str_2_np_array(string):\n",
    "    major_list = []\n",
    "    minor_list = []\n",
    "    num = ''\n",
    "    string = string.strip()\n",
    "    for item in string:\n",
    "        if item == ' ':\n",
    "            minor_list.append(float(num))\n",
    "            num = \"\"\n",
    "            continue\n",
    "        if item == '\\n':\n",
    "            minor_list.append(float(num))\n",
    "            num = \"\"\n",
    "            major_list.append(minor_list.copy())\n",
    "            minor_list.clear()\n",
    "            continue\n",
    "        num = num + item\n",
    "    minor_list.append(float(num))\n",
    "    major_list.append(minor_list)\n",
    "    array = np.array(major_list)\n",
    "    return array"
   ]
  },
  {
   "cell_type": "code",
   "execution_count": 82,
   "metadata": {},
   "outputs": [],
   "source": [
    "Y = \"\"\"\n",
    "5 -1 7\n",
    "-1 2 -1\n",
    "4 -1 -1\n",
    "-1 3 6\"\"\"\n",
    "X = \"\"\"\n",
    "24 12 6\n",
    "0 0 0\n",
    "12 6 3\n",
    "24 12 6\"\"\""
   ]
  },
  {
   "cell_type": "code",
   "execution_count": 83,
   "metadata": {},
   "outputs": [
    {
     "data": {
      "text/plain": [
       "array([[24., 12.,  6.],\n",
       "       [ 0.,  0.,  0.],\n",
       "       [12.,  6.,  3.],\n",
       "       [24., 12.,  6.]])"
      ]
     },
     "execution_count": 83,
     "metadata": {},
     "output_type": "execute_result"
    }
   ],
   "source": [
    "X_array = str_2_np_array(X)\n",
    "X_array"
   ]
  },
  {
   "cell_type": "code",
   "execution_count": 92,
   "metadata": {},
   "outputs": [],
   "source": [
    "sq_error = [number ** 2 for number in [5-24,1,2,8,9]]\n",
    "n_error = len(sq_error)\n",
    "sq_sum = sum(sq_error)\n",
    "\n",
    "x2 = [number ** 2 for number in X_array]\n",
    "n_x2 = np.size(x2)\n",
    "x2_sum = sum(sum(x2))\n",
    "    \n"
   ]
  },
  {
   "cell_type": "code",
   "execution_count": 93,
   "metadata": {},
   "outputs": [
    {
     "data": {
      "text/plain": [
       "5"
      ]
     },
     "execution_count": 93,
     "metadata": {},
     "output_type": "execute_result"
    }
   ],
   "source": []
  },
  {
   "cell_type": "code",
   "execution_count": 94,
   "metadata": {},
   "outputs": [
    {
     "data": {
      "text/plain": [
       "255.5"
      ]
     },
     "execution_count": 94,
     "metadata": {},
     "output_type": "execute_result"
    }
   ],
   "source": [
    "0.5*sq_sum"
   ]
  },
  {
   "cell_type": "code",
   "execution_count": 95,
   "metadata": {},
   "outputs": [
    {
     "data": {
      "text/plain": [
       "51.0"
      ]
     },
     "execution_count": 95,
     "metadata": {},
     "output_type": "execute_result"
    }
   ],
   "source": [
    "0.5*(36+36+9+16+4+1)"
   ]
  },
  {
   "cell_type": "code",
   "execution_count": null,
   "metadata": {},
   "outputs": [],
   "source": []
  }
 ],
 "metadata": {
  "interpreter": {
   "hash": "bd8da7eca5f012565f006b8232621f4f8970d02af93f99796c12997f5b380815"
  },
  "kernelspec": {
   "display_name": "Python 3.6.13 64-bit ('6.86x': conda)",
   "name": "python3"
  },
  "language_info": {
   "codemirror_mode": {
    "name": "ipython",
    "version": 3
   },
   "file_extension": ".py",
   "mimetype": "text/x-python",
   "name": "python",
   "nbconvert_exporter": "python",
   "pygments_lexer": "ipython3",
   "version": "3.6.13"
  },
  "orig_nbformat": 4
 },
 "nbformat": 4,
 "nbformat_minor": 2
}
