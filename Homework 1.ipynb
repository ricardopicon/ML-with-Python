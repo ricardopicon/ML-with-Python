{
 "cells": [
  {
   "cell_type": "code",
   "execution_count": 1,
   "id": "6ac70d13",
   "metadata": {},
   "outputs": [],
   "source": [
    "# Perceptron Mistakes"
   ]
  },
  {
   "cell_type": "code",
   "execution_count": 3,
   "id": "cd286c2f",
   "metadata": {},
   "outputs": [],
   "source": [
    "import numpy as np"
   ]
  },
  {
   "cell_type": "code",
   "execution_count": 77,
   "id": "b9b04c67",
   "metadata": {},
   "outputs": [],
   "source": [
    "X=np.array([[2,2],[1,1],[-1,1],[1,-1]])\n",
    "y = np.array([-1,-1,1,1])"
   ]
  },
  {
   "cell_type": "code",
   "execution_count": 79,
   "id": "5aaac982",
   "metadata": {},
   "outputs": [],
   "source": [
    "X=np.array([[1,0]])\n",
    "y = np.array([1])"
   ]
  },
  {
   "cell_type": "code",
   "execution_count": 80,
   "id": "0db4144e",
   "metadata": {},
   "outputs": [],
   "source": [
    "## Through origin"
   ]
  },
  {
   "cell_type": "code",
   "execution_count": 81,
   "id": "935a1a2f",
   "metadata": {},
   "outputs": [
    {
     "name": "stdout",
     "output_type": "stream",
     "text": [
      "Theta: [[0. 0.]]\n",
      "wrong value\n",
      "Theta: [[1. 0.]]\n",
      "Round correct\n"
     ]
    }
   ],
   "source": [
    "correct = 0\n",
    "iteration = 0\n",
    "theta = np.zeros((1,2))\n",
    "theta_history=[]\n",
    "n=len(X)\n",
    "while correct<n and iteration<25:\n",
    "    print(f'Theta: {theta}')\n",
    "    if np.sum(X[iteration%n]*theta)*y[iteration%n]<=0:\n",
    "        print('wrong value')\n",
    "        theta += y[iteration%n]*X[[iteration%n]]\n",
    "        correct=0\n",
    "        theta_history.append(theta)\n",
    "    else:\n",
    "        correct+=1\n",
    "        if correct == n:\n",
    "            print(\"Round correct\")\n",
    "    iteration+=1"
   ]
  },
  {
   "cell_type": "code",
   "execution_count": null,
   "id": "46221a21",
   "metadata": {},
   "outputs": [],
   "source": [
    "## Non-origin"
   ]
  },
  {
   "cell_type": "code",
   "execution_count": 78,
   "id": "b37ac457",
   "metadata": {},
   "outputs": [
    {
     "name": "stdout",
     "output_type": "stream",
     "text": [
      "Theta: [[0. 0.]]\n",
      "Theta0: 0\n",
      "wrong value\n",
      "Theta: [[-2. -2.]]\n",
      "Theta0: -1\n",
      "Theta: [[-2. -2.]]\n",
      "Theta0: -1\n",
      "wrong value\n",
      "Theta: [[-3. -1.]]\n",
      "Theta0: 0\n",
      "wrong value\n",
      "Theta: [[-2. -2.]]\n",
      "Theta0: 1\n",
      "Theta: [[-2. -2.]]\n",
      "Theta0: 1\n",
      "Theta: [[-2. -2.]]\n",
      "Theta0: 1\n",
      "Theta: [[-2. -2.]]\n",
      "Theta0: 1\n"
     ]
    }
   ],
   "source": [
    "correct = 0\n",
    "iteration = 0\n",
    "theta = np.zeros((1,2))\n",
    "theta_history=[]\n",
    "theta_0=0\n",
    "n = len(X)\n",
    "while correct<n:\n",
    "    print(f'Theta: {theta}')\n",
    "    print(f'Theta0: {theta_0}')\n",
    "    if (np.sum(X[iteration%n]*theta)+theta_0)*y[iteration%n]<=0:\n",
    "        print('wrong value')\n",
    "        theta += y[iteration%n]*X[[iteration%n]]\n",
    "        theta_0 += y[iteration%n]\n",
    "        correct=0\n",
    "        theta_history.append(theta)\n",
    "    else:\n",
    "        correct+=1\n",
    "    iteration+=1"
   ]
  },
  {
   "cell_type": "code",
   "execution_count": null,
   "id": "84391788",
   "metadata": {},
   "outputs": [],
   "source": []
  }
 ],
 "metadata": {
  "kernelspec": {
   "display_name": "Python 3",
   "language": "python",
   "name": "python3"
  },
  "language_info": {
   "codemirror_mode": {
    "name": "ipython",
    "version": 3
   },
   "file_extension": ".py",
   "mimetype": "text/x-python",
   "name": "python",
   "nbconvert_exporter": "python",
   "pygments_lexer": "ipython3",
   "version": "3.6.13"
  }
 },
 "nbformat": 4,
 "nbformat_minor": 5
}
